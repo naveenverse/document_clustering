{
  "nbformat": 4,
  "nbformat_minor": 0,
  "metadata": {
    "colab": {
      "name": "Web scraping_PubMed.ipynb",
      "provenance": [],
      "collapsed_sections": []
    },
    "kernelspec": {
      "name": "python3",
      "display_name": "Python 3"
    },
    "language_info": {
      "name": "python"
    }
  },
  "cells": [
    {
      "cell_type": "markdown",
      "metadata": {
        "id": "67mIOae7U_uG"
      },
      "source": [
        "# 0 IMPORTS"
      ]
    },
    {
      "cell_type": "code",
      "metadata": {
        "id": "Wq4vOXfHsajI"
      },
      "source": [
        "import numpy as np\n",
        "import pandas as pd\n",
        "import json"
      ],
      "execution_count": 1,
      "outputs": []
    },
    {
      "cell_type": "code",
      "metadata": {
        "colab": {
          "base_uri": "https://localhost:8080/"
        },
        "id": "zgg2LXF85i7u",
        "outputId": "78bcb2fb-dd62-4b4d-f102-afa95c34b082"
      },
      "source": [
        "!pip install Bio"
      ],
      "execution_count": 2,
      "outputs": [
        {
          "output_type": "stream",
          "text": [
            "Requirement already satisfied: Bio in /usr/local/lib/python3.7/dist-packages (0.5.0)\n",
            "Requirement already satisfied: plac in /usr/local/lib/python3.7/dist-packages (from Bio) (1.1.3)\n",
            "Requirement already satisfied: biopython>=1.78 in /usr/local/lib/python3.7/dist-packages (from Bio) (1.79)\n",
            "Requirement already satisfied: numpy<1.20 in /usr/local/lib/python3.7/dist-packages (from Bio) (1.19.5)\n",
            "Requirement already satisfied: requests in /usr/local/lib/python3.7/dist-packages (from Bio) (2.23.0)\n",
            "Requirement already satisfied: idna<3,>=2.5 in /usr/local/lib/python3.7/dist-packages (from requests->Bio) (2.10)\n",
            "Requirement already satisfied: chardet<4,>=3.0.2 in /usr/local/lib/python3.7/dist-packages (from requests->Bio) (3.0.4)\n",
            "Requirement already satisfied: urllib3!=1.25.0,!=1.25.1,<1.26,>=1.21.1 in /usr/local/lib/python3.7/dist-packages (from requests->Bio) (1.24.3)\n",
            "Requirement already satisfied: certifi>=2017.4.17 in /usr/local/lib/python3.7/dist-packages (from requests->Bio) (2021.5.30)\n"
          ],
          "name": "stdout"
        }
      ]
    },
    {
      "cell_type": "code",
      "metadata": {
        "id": "_yKyQxqI51_x"
      },
      "source": [
        "from Bio import Entrez"
      ],
      "execution_count": 3,
      "outputs": []
    },
    {
      "cell_type": "markdown",
      "metadata": {
        "id": "DMCm-N0GVe_0"
      },
      "source": [
        "# 1 HELPER FUNCTIONS"
      ]
    },
    {
      "cell_type": "code",
      "metadata": {
        "id": "xyTu9J34bhDe"
      },
      "source": [
        "def search(query,retrive):\n",
        "  Entrez.email = 'naveenverse@gmail.com'\n",
        "  handle = Entrez.esearch(\n",
        "      db = 'pubmed',\n",
        "      sort = 'relevance',\n",
        "      retmax = retrive,\n",
        "      retmode = 'xml',\n",
        "      term = query\n",
        "  )\n",
        "  results = Entrez.read(handle)\n",
        "  return results #The list of citation IDs will be available as results[‘IdList’]\n",
        "\n",
        "def fetch_details(id_list):\n",
        "  Entrez.email = 'naveenverse@gmail.com'\n",
        "  ids = ','.join(id_list)\n",
        "  handle = Entrez.efetch(\n",
        "        db = 'pubmed',\n",
        "        retmode = 'xml',\n",
        "        id = ids\n",
        "    ) #fetch the details for all the retrieved articles via the efetch utility\n",
        "  results = Entrez.read(handle)\n",
        "  return results \n",
        "def json_extract(papers, Key):\n",
        "  Abstract = []\n",
        "  pmID = []  \n",
        "  Keyword = []\n",
        "  #extracting nested data from JSON\n",
        "  for i, paper in enumerate(papers['PubmedArticle']):\n",
        "          pmID.append((json.dumps(paper['MedlineCitation']['PMID']).strip('\"')))\n",
        "          Keyword.append(Key)\n",
        "          try : Abstract.append((json.dumps(paper['MedlineCitation']['Article']['Abstract']['AbstractText']).strip('[]\"')))\n",
        "          except : Abstract.append('No abstract')\n",
        "  return Abstract,pmID,Keyword \n",
        "  "
      ],
      "execution_count": 4,
      "outputs": []
    },
    {
      "cell_type": "markdown",
      "metadata": {
        "id": "UVHuLZTmVtZB"
      },
      "source": [
        "# 2 RETRIVING THE DATA"
      ]
    },
    {
      "cell_type": "markdown",
      "metadata": {
        "id": "A6QoGjVkV_qK"
      },
      "source": [
        "Retriving Cancer related papers"
      ]
    },
    {
      "cell_type": "code",
      "metadata": {
        "colab": {
          "base_uri": "https://localhost:8080/"
        },
        "id": "hQayZHgjd85l",
        "outputId": "8857ac65-c2e6-4107-e08c-8e2085c291e1"
      },
      "source": [
        "results = search('cancer','200')\n",
        "id_list = results['IdList']\n",
        "cancer_papers = fetch_details(id_list)\n",
        "# Print the first paper in full to observe its structure\n",
        "print(json.dumps(cancer_papers['PubmedArticle'][0], indent=3))"
      ],
      "execution_count": 5,
      "outputs": [
        {
          "output_type": "stream",
          "text": [
            "{\n",
            "   \"MedlineCitation\": {\n",
            "      \"CitationSubset\": [\n",
            "         \"IM\"\n",
            "      ],\n",
            "      \"SpaceFlightMission\": [],\n",
            "      \"OtherAbstract\": [],\n",
            "      \"GeneralNote\": [],\n",
            "      \"OtherID\": [],\n",
            "      \"KeywordList\": [],\n",
            "      \"PMID\": \"31622130\",\n",
            "      \"DateCompleted\": {\n",
            "         \"Year\": \"2020\",\n",
            "         \"Month\": \"06\",\n",
            "         \"Day\": \"22\"\n",
            "      },\n",
            "      \"DateRevised\": {\n",
            "         \"Year\": \"2020\",\n",
            "         \"Month\": \"07\",\n",
            "         \"Day\": \"14\"\n",
            "      },\n",
            "      \"Article\": {\n",
            "         \"Language\": [\n",
            "            \"eng\"\n",
            "         ],\n",
            "         \"ELocationID\": [\n",
            "            \"10.1200/JCO.19.00129\"\n",
            "         ],\n",
            "         \"ArticleDate\": [\n",
            "            {\n",
            "               \"Year\": \"2019\",\n",
            "               \"Month\": \"10\",\n",
            "               \"Day\": \"17\"\n",
            "            }\n",
            "         ],\n",
            "         \"Journal\": {\n",
            "            \"ISSN\": \"1527-7755\",\n",
            "            \"JournalIssue\": {\n",
            "               \"Volume\": \"37\",\n",
            "               \"Issue\": \"34\",\n",
            "               \"PubDate\": {\n",
            "                  \"Year\": \"2019\",\n",
            "                  \"Month\": \"12\",\n",
            "                  \"Day\": \"01\"\n",
            "               }\n",
            "            },\n",
            "            \"Title\": \"Journal of clinical oncology : official journal of the American Society of Clinical Oncology\",\n",
            "            \"ISOAbbreviation\": \"J Clin Oncol\"\n",
            "         },\n",
            "         \"ArticleTitle\": \"Chemotherapy and Risk of Subsequent Malignant Neoplasms in the Childhood Cancer Survivor Study Cohort.\",\n",
            "         \"Pagination\": {\n",
            "            \"MedlinePgn\": \"3310-3319\"\n",
            "         },\n",
            "         \"Abstract\": {\n",
            "            \"AbstractText\": [\n",
            "               \"Therapeutic radiation in childhood cancer has decreased over time with a concomitant increase in chemotherapy. Limited data exist on chemotherapy-associated subsequent malignant neoplasm (SMN) risk.\",\n",
            "               \"SMNs occurring > 5 years from diagnosis, excluding nonmelanoma skin cancers, were evaluated in survivors diagnosed when they were < 21 years old, from 1970 to 1999 in the Childhood Cancer Survivor Study (median age at diagnosis, 7.0 years; median age at last follow-up, 31.8 years). Thirty-year SMN cumulative incidence and standardized incidence ratios (SIRs) were estimated by treatment: chemotherapy-only (n = 7,448), chemotherapy plus radiation (n = 10,485), radiation only (n = 2,063), or neither (n = 2,158). Multivariable models were used to assess chemotherapy-associated SMN risk, including dose-response relationships.\",\n",
            "               \"Of 1,498 SMNs among 1,344 survivors, 229 occurred among 206 survivors treated with chemotherapy only. Thirty-year SMN cumulative incidence was 3.9%, 9.0%, 10.8%, and 3.4% for the chemotherapy-only, chemotherapy plus radiation, radiation-only, or neither-treatment groups, respectively. Chemotherapy-only survivors had a 2.8-fold increased SMN risk compared with the general population (95% CI, 2.5 to 3.2), with SIRs increased for subsequent leukemia/lymphoma (1.9; 95% CI, 1.3 to 2.7), breast cancer (4.6; 95% CI, 3.5 to 6.0), soft-tissue sarcoma (3.4; 95% CI, 1.9 to 5.7), thyroid cancer (3.8; 95% CI, 2.7 to 5.1), and melanoma (2.3; 95% CI, 1.5 to 3.5). SMN rate was associated with > 750 mg/m<sup>2</sup> platinum (relative rate [RR] 2.7; 95% CI, 1.1 to 6.5), and a dose response was observed between alkylating agents and SMN rate (RR, 1.2/5,000 mg/m<sup>2</sup>; 95% CI, 1.1 to 1.3). A linear dose response was also demonstrated between anthracyclines and breast cancer rate (RR, 1.3/100 mg/m<sup>2</sup>; 95% CI, 1.2 to 1.6).\",\n",
            "               \"Childhood cancer survivors treated with chemotherapy only, particularly higher cumulative doses of platinum and alkylating agents, face increased SMN risk. Linear dose responses were seen between alkylating agents and SMN rates and between anthracyclines and breast cancer rates. Limiting cumulative doses and consideration of alternate chemotherapies may reduce SMN risk.\"\n",
            "            ]\n",
            "         },\n",
            "         \"AuthorList\": [\n",
            "            {\n",
            "               \"AffiliationInfo\": [\n",
            "                  {\n",
            "                     \"Identifier\": [],\n",
            "                     \"Affiliation\": \"University of Minnesota Medical School, Minneapolis, MN.\"\n",
            "                  }\n",
            "               ],\n",
            "               \"Identifier\": [],\n",
            "               \"LastName\": \"Turcotte\",\n",
            "               \"ForeName\": \"Lucie M\",\n",
            "               \"Initials\": \"LM\"\n",
            "            },\n",
            "            {\n",
            "               \"AffiliationInfo\": [\n",
            "                  {\n",
            "                     \"Identifier\": [],\n",
            "                     \"Affiliation\": \"University of Alberta School of Public Health, Edmonton, Alberta, Canada.\"\n",
            "                  }\n",
            "               ],\n",
            "               \"Identifier\": [],\n",
            "               \"LastName\": \"Liu\",\n",
            "               \"ForeName\": \"Qi\",\n",
            "               \"Initials\": \"Q\"\n",
            "            },\n",
            "            {\n",
            "               \"AffiliationInfo\": [\n",
            "                  {\n",
            "                     \"Identifier\": [],\n",
            "                     \"Affiliation\": \"St Jude Children's Research Hospital, Memphis, TN.\"\n",
            "                  }\n",
            "               ],\n",
            "               \"Identifier\": [],\n",
            "               \"LastName\": \"Yasui\",\n",
            "               \"ForeName\": \"Yutaka\",\n",
            "               \"Initials\": \"Y\"\n",
            "            },\n",
            "            {\n",
            "               \"AffiliationInfo\": [\n",
            "                  {\n",
            "                     \"Identifier\": [],\n",
            "                     \"Affiliation\": \"University of Chicago, Chicago, IL.\"\n",
            "                  }\n",
            "               ],\n",
            "               \"Identifier\": [],\n",
            "               \"LastName\": \"Henderson\",\n",
            "               \"ForeName\": \"Tara O\",\n",
            "               \"Initials\": \"TO\"\n",
            "            },\n",
            "            {\n",
            "               \"AffiliationInfo\": [\n",
            "                  {\n",
            "                     \"Identifier\": [],\n",
            "                     \"Affiliation\": \"St Jude Children's Research Hospital, Memphis, TN.\"\n",
            "                  }\n",
            "               ],\n",
            "               \"Identifier\": [],\n",
            "               \"LastName\": \"Gibson\",\n",
            "               \"ForeName\": \"Todd M\",\n",
            "               \"Initials\": \"TM\"\n",
            "            },\n",
            "            {\n",
            "               \"AffiliationInfo\": [\n",
            "                  {\n",
            "                     \"Identifier\": [],\n",
            "                     \"Affiliation\": \"Fred Hutchinson Cancer Research Center, Seattle, WA.\"\n",
            "                  }\n",
            "               ],\n",
            "               \"Identifier\": [],\n",
            "               \"LastName\": \"Leisenring\",\n",
            "               \"ForeName\": \"Wendy\",\n",
            "               \"Initials\": \"W\"\n",
            "            },\n",
            "            {\n",
            "               \"AffiliationInfo\": [\n",
            "                  {\n",
            "                     \"Identifier\": [],\n",
            "                     \"Affiliation\": \"Ohio State University, Columbus, OH.\"\n",
            "                  }\n",
            "               ],\n",
            "               \"Identifier\": [],\n",
            "               \"LastName\": \"Arnold\",\n",
            "               \"ForeName\": \"Michael A\",\n",
            "               \"Initials\": \"MA\"\n",
            "            },\n",
            "            {\n",
            "               \"AffiliationInfo\": [\n",
            "                  {\n",
            "                     \"Identifier\": [],\n",
            "                     \"Affiliation\": \"University of Texas MD Anderson Cancer Center, Houston, TX.\"\n",
            "                  }\n",
            "               ],\n",
            "               \"Identifier\": [],\n",
            "               \"LastName\": \"Howell\",\n",
            "               \"ForeName\": \"Rebecca M\",\n",
            "               \"Initials\": \"RM\"\n",
            "            },\n",
            "            {\n",
            "               \"AffiliationInfo\": [\n",
            "                  {\n",
            "                     \"Identifier\": [],\n",
            "                     \"Affiliation\": \"St Jude Children's Research Hospital, Memphis, TN.\"\n",
            "                  }\n",
            "               ],\n",
            "               \"Identifier\": [],\n",
            "               \"LastName\": \"Green\",\n",
            "               \"ForeName\": \"Daniel M\",\n",
            "               \"Initials\": \"DM\"\n",
            "            },\n",
            "            {\n",
            "               \"AffiliationInfo\": [\n",
            "                  {\n",
            "                     \"Identifier\": [],\n",
            "                     \"Affiliation\": \"St Jude Children's Research Hospital, Memphis, TN.\"\n",
            "                  }\n",
            "               ],\n",
            "               \"Identifier\": [],\n",
            "               \"LastName\": \"Armstrong\",\n",
            "               \"ForeName\": \"Gregory T\",\n",
            "               \"Initials\": \"GT\"\n",
            "            },\n",
            "            {\n",
            "               \"AffiliationInfo\": [\n",
            "                  {\n",
            "                     \"Identifier\": [],\n",
            "                     \"Affiliation\": \"St Jude Children's Research Hospital, Memphis, TN.\"\n",
            "                  }\n",
            "               ],\n",
            "               \"Identifier\": [],\n",
            "               \"LastName\": \"Robison\",\n",
            "               \"ForeName\": \"Leslie L\",\n",
            "               \"Initials\": \"LL\"\n",
            "            },\n",
            "            {\n",
            "               \"AffiliationInfo\": [\n",
            "                  {\n",
            "                     \"Identifier\": [],\n",
            "                     \"Affiliation\": \"University of Minnesota Medical School, Minneapolis, MN.\"\n",
            "                  }\n",
            "               ],\n",
            "               \"Identifier\": [],\n",
            "               \"LastName\": \"Neglia\",\n",
            "               \"ForeName\": \"Joseph P\",\n",
            "               \"Initials\": \"JP\"\n",
            "            }\n",
            "         ],\n",
            "         \"GrantList\": [\n",
            "            {\n",
            "               \"GrantID\": \"K08 CA234232\",\n",
            "               \"Acronym\": \"CA\",\n",
            "               \"Agency\": \"NCI NIH HHS\",\n",
            "               \"Country\": \"United States\"\n",
            "            },\n",
            "            {\n",
            "               \"GrantID\": \"P30 CA021765\",\n",
            "               \"Acronym\": \"CA\",\n",
            "               \"Agency\": \"NCI NIH HHS\",\n",
            "               \"Country\": \"United States\"\n",
            "            },\n",
            "            {\n",
            "               \"GrantID\": \"U24 CA055727\",\n",
            "               \"Acronym\": \"CA\",\n",
            "               \"Agency\": \"NCI NIH HHS\",\n",
            "               \"Country\": \"United States\"\n",
            "            }\n",
            "         ],\n",
            "         \"PublicationTypeList\": [\n",
            "            \"Comparative Study\",\n",
            "            \"Journal Article\",\n",
            "            \"Multicenter Study\",\n",
            "            \"Research Support, N.I.H., Extramural\",\n",
            "            \"Research Support, Non-U.S. Gov't\"\n",
            "         ]\n",
            "      },\n",
            "      \"MedlineJournalInfo\": {\n",
            "         \"Country\": \"United States\",\n",
            "         \"MedlineTA\": \"J Clin Oncol\",\n",
            "         \"NlmUniqueID\": \"8309333\",\n",
            "         \"ISSNLinking\": \"0732-183X\"\n",
            "      },\n",
            "      \"ChemicalList\": [\n",
            "         {\n",
            "            \"RegistryNumber\": \"0\",\n",
            "            \"NameOfSubstance\": \"Antineoplastic Agents\"\n",
            "         }\n",
            "      ],\n",
            "      \"MeshHeadingList\": [\n",
            "         {\n",
            "            \"QualifierName\": [],\n",
            "            \"DescriptorName\": \"Adolescent\"\n",
            "         },\n",
            "         {\n",
            "            \"QualifierName\": [],\n",
            "            \"DescriptorName\": \"Adult\"\n",
            "         },\n",
            "         {\n",
            "            \"QualifierName\": [],\n",
            "            \"DescriptorName\": \"Age Factors\"\n",
            "         },\n",
            "         {\n",
            "            \"QualifierName\": [],\n",
            "            \"DescriptorName\": \"Aged\"\n",
            "         },\n",
            "         {\n",
            "            \"QualifierName\": [\n",
            "               \"adverse effects\"\n",
            "            ],\n",
            "            \"DescriptorName\": \"Antineoplastic Agents\"\n",
            "         },\n",
            "         {\n",
            "            \"QualifierName\": [],\n",
            "            \"DescriptorName\": \"Cancer Survivors\"\n",
            "         },\n",
            "         {\n",
            "            \"QualifierName\": [\n",
            "               \"adverse effects\"\n",
            "            ],\n",
            "            \"DescriptorName\": \"Chemoradiotherapy\"\n",
            "         },\n",
            "         {\n",
            "            \"QualifierName\": [],\n",
            "            \"DescriptorName\": \"Child\"\n",
            "         },\n",
            "         {\n",
            "            \"QualifierName\": [],\n",
            "            \"DescriptorName\": \"Child, Preschool\"\n",
            "         },\n",
            "         {\n",
            "            \"QualifierName\": [],\n",
            "            \"DescriptorName\": \"Dose-Response Relationship, Drug\"\n",
            "         },\n",
            "         {\n",
            "            \"QualifierName\": [],\n",
            "            \"DescriptorName\": \"Humans\"\n",
            "         },\n",
            "         {\n",
            "            \"QualifierName\": [],\n",
            "            \"DescriptorName\": \"Incidence\"\n",
            "         },\n",
            "         {\n",
            "            \"QualifierName\": [],\n",
            "            \"DescriptorName\": \"Infant\"\n",
            "         },\n",
            "         {\n",
            "            \"QualifierName\": [],\n",
            "            \"DescriptorName\": \"Infant, Newborn\"\n",
            "         },\n",
            "         {\n",
            "            \"QualifierName\": [],\n",
            "            \"DescriptorName\": \"Middle Aged\"\n",
            "         },\n",
            "         {\n",
            "            \"QualifierName\": [\n",
            "               \"diagnosis\",\n",
            "               \"drug therapy\",\n",
            "               \"epidemiology\"\n",
            "            ],\n",
            "            \"DescriptorName\": \"Neoplasms\"\n",
            "         },\n",
            "         {\n",
            "            \"QualifierName\": [\n",
            "               \"diagnosis\",\n",
            "               \"epidemiology\"\n",
            "            ],\n",
            "            \"DescriptorName\": \"Neoplasms, Radiation-Induced\"\n",
            "         },\n",
            "         {\n",
            "            \"QualifierName\": [\n",
            "               \"chemically induced\",\n",
            "               \"diagnosis\",\n",
            "               \"epidemiology\"\n",
            "            ],\n",
            "            \"DescriptorName\": \"Neoplasms, Second Primary\"\n",
            "         },\n",
            "         {\n",
            "            \"QualifierName\": [\n",
            "               \"epidemiology\"\n",
            "            ],\n",
            "            \"DescriptorName\": \"North America\"\n",
            "         },\n",
            "         {\n",
            "            \"QualifierName\": [\n",
            "               \"adverse effects\"\n",
            "            ],\n",
            "            \"DescriptorName\": \"Radiotherapy\"\n",
            "         },\n",
            "         {\n",
            "            \"QualifierName\": [],\n",
            "            \"DescriptorName\": \"Risk Assessment\"\n",
            "         },\n",
            "         {\n",
            "            \"QualifierName\": [],\n",
            "            \"DescriptorName\": \"Risk Factors\"\n",
            "         },\n",
            "         {\n",
            "            \"QualifierName\": [],\n",
            "            \"DescriptorName\": \"Time Factors\"\n",
            "         },\n",
            "         {\n",
            "            \"QualifierName\": [],\n",
            "            \"DescriptorName\": \"Young Adult\"\n",
            "         }\n",
            "      ]\n",
            "   },\n",
            "   \"PubmedData\": {\n",
            "      \"ReferenceList\": [\n",
            "         {\n",
            "            \"Reference\": [\n",
            "               {\n",
            "                  \"Citation\": \"J Clin Oncol. 2017 Jul 10;35(20):2288-2298\",\n",
            "                  \"ArticleIdList\": [\n",
            "                     \"28530852\"\n",
            "                  ]\n",
            "               },\n",
            "               {\n",
            "                  \"Citation\": \"J Natl Cancer Inst. 2013 Apr 3;105(7):504-8\",\n",
            "                  \"ArticleIdList\": [\n",
            "                     \"23515901\"\n",
            "                  ]\n",
            "               },\n",
            "               {\n",
            "                  \"Citation\": \"Pediatr Blood Cancer. 2014 Jan;61(1):53-67\",\n",
            "                  \"ArticleIdList\": [\n",
            "                     \"23940101\"\n",
            "                  ]\n",
            "               },\n",
            "               {\n",
            "                  \"Citation\": \"J Clin Oncol. 2006 Jan 20;24(3):476-83\",\n",
            "                  \"ArticleIdList\": [\n",
            "                     \"16421424\"\n",
            "                  ]\n",
            "               },\n",
            "               {\n",
            "                  \"Citation\": \"J Natl Cancer Inst. 2007 Feb 21;99(4):300-8\",\n",
            "                  \"ArticleIdList\": [\n",
            "                     \"17312307\"\n",
            "                  ]\n",
            "               },\n",
            "               {\n",
            "                  \"Citation\": \"J Clin Oncol. 2012 Jul 10;30(20):2552-8\",\n",
            "                  \"ArticleIdList\": [\n",
            "                     \"22665546\"\n",
            "                  ]\n",
            "               },\n",
            "               {\n",
            "                  \"Citation\": \"N Engl J Med. 2016 Mar 3;374(9):833-42\",\n",
            "                  \"ArticleIdList\": [\n",
            "                     \"26761625\"\n",
            "                  ]\n",
            "               },\n",
            "               {\n",
            "                  \"Citation\": \"Pediatr Blood Cancer. 2012 Mar;58(3):334-43\",\n",
            "                  \"ArticleIdList\": [\n",
            "                     \"22038641\"\n",
            "                  ]\n",
            "               },\n",
            "               {\n",
            "                  \"Citation\": \"J Clin Oncol. 2016 Mar 20;34(9):910-8\",\n",
            "                  \"ArticleIdList\": [\n",
            "                     \"26700127\"\n",
            "                  ]\n",
            "               },\n",
            "               {\n",
            "                  \"Citation\": \"Curr Opin Oncol. 2018 Jan;30(1):23-29\",\n",
            "                  \"ArticleIdList\": [\n",
            "                     \"29076966\"\n",
            "                  ]\n",
            "               },\n",
            "               {\n",
            "                  \"Citation\": \"Lancet. 2007 Oct 20;370(9596):1453-7\",\n",
            "                  \"ArticleIdList\": [\n",
            "                     \"18064739\"\n",
            "                  ]\n",
            "               },\n",
            "               {\n",
            "                  \"Citation\": \"Br J Haematol. 2017 Feb;176(4):539-552\",\n",
            "                  \"ArticleIdList\": [\n",
            "                     \"27984644\"\n",
            "                  ]\n",
            "               },\n",
            "               {\n",
            "                  \"Citation\": \"BMJ. 2009 Dec 08;339:b4606\",\n",
            "                  \"ArticleIdList\": [\n",
            "                     \"19996459\"\n",
            "                  ]\n",
            "               },\n",
            "               {\n",
            "                  \"Citation\": \"J Clin Oncol. 2013 Oct 20;31(30):3807-14\",\n",
            "                  \"ArticleIdList\": [\n",
            "                     \"24043737\"\n",
            "                  ]\n",
            "               },\n",
            "               {\n",
            "                  \"Citation\": \"Cancer Treat Rev. 1985 Sep;12 Suppl A:59-65\",\n",
            "                  \"ArticleIdList\": [\n",
            "                     \"3910223\"\n",
            "                  ]\n",
            "               },\n",
            "               {\n",
            "                  \"Citation\": \"J Clin Oncol. 2009 May 10;27(14):2308-18\",\n",
            "                  \"ArticleIdList\": [\n",
            "                     \"19364948\"\n",
            "                  ]\n",
            "               },\n",
            "               {\n",
            "                  \"Citation\": \"Pediatr Blood Cancer. 2013 Jul;60(7):1083-94\",\n",
            "                  \"ArticleIdList\": [\n",
            "                     \"23418018\"\n",
            "                  ]\n",
            "               },\n",
            "               {\n",
            "                  \"Citation\": \"J Clin Oncol. 2018 Jul 10;36(20):2078-2087\",\n",
            "                  \"ArticleIdList\": [\n",
            "                     \"29847298\"\n",
            "                  ]\n",
            "               },\n",
            "               {\n",
            "                  \"Citation\": \"JAMA. 2011 Jun 8;305(22):2311-9\",\n",
            "                  \"ArticleIdList\": [\n",
            "                     \"21642683\"\n",
            "                  ]\n",
            "               },\n",
            "               {\n",
            "                  \"Citation\": \"Int J Radiat Oncol Biol Phys. 2012 Sep 1;84(1):224-30\",\n",
            "                  \"ArticleIdList\": [\n",
            "                     \"22795729\"\n",
            "                  ]\n",
            "               },\n",
            "               {\n",
            "                  \"Citation\": \"BMJ. 1992 Apr 11;304(6832):951-8\",\n",
            "                  \"ArticleIdList\": [\n",
            "                     \"1581717\"\n",
            "                  ]\n",
            "               },\n",
            "               {\n",
            "                  \"Citation\": \"J Natl Cancer Inst. 2010 Jul 21;102(14):1083-95\",\n",
            "                  \"ArticleIdList\": [\n",
            "                     \"20634481\"\n",
            "                  ]\n",
            "               },\n",
            "               {\n",
            "                  \"Citation\": \"J Clin Oncol. 2009 May 10;27(14):2319-27\",\n",
            "                  \"ArticleIdList\": [\n",
            "                     \"19364957\"\n",
            "                  ]\n",
            "               },\n",
            "               {\n",
            "                  \"Citation\": \"N Engl J Med. 1991 Dec 12;325(24):1682-7\",\n",
            "                  \"ArticleIdList\": [\n",
            "                     \"1944468\"\n",
            "                  ]\n",
            "               },\n",
            "               {\n",
            "                  \"Citation\": \"N Engl J Med. 1999 Feb 4;340(5):351-7\",\n",
            "                  \"ArticleIdList\": [\n",
            "                     \"9929525\"\n",
            "                  ]\n",
            "               },\n",
            "               {\n",
            "                  \"Citation\": \"JAMA. 2017 Feb 28;317(8):814-824\",\n",
            "                  \"ArticleIdList\": [\n",
            "                     \"28245323\"\n",
            "                  ]\n",
            "               },\n",
            "               {\n",
            "                  \"Citation\": \"Ann Intern Med. 2012 Jun 5;156(11):757-66, W-260\",\n",
            "                  \"ArticleIdList\": [\n",
            "                     \"22665813\"\n",
            "                  ]\n",
            "               },\n",
            "               {\n",
            "                  \"Citation\": \"Am J Epidemiol. 2015 Apr 1;181(7):532-40\",\n",
            "                  \"ArticleIdList\": [\n",
            "                     \"25693770\"\n",
            "                  ]\n",
            "               }\n",
            "            ],\n",
            "            \"ReferenceList\": []\n",
            "         }\n",
            "      ],\n",
            "      \"History\": [\n",
            "         {\n",
            "            \"Year\": \"2019\",\n",
            "            \"Month\": \"10\",\n",
            "            \"Day\": \"18\",\n",
            "            \"Hour\": \"6\",\n",
            "            \"Minute\": \"0\"\n",
            "         },\n",
            "         {\n",
            "            \"Year\": \"2020\",\n",
            "            \"Month\": \"6\",\n",
            "            \"Day\": \"23\",\n",
            "            \"Hour\": \"6\",\n",
            "            \"Minute\": \"0\"\n",
            "         },\n",
            "         {\n",
            "            \"Year\": \"2019\",\n",
            "            \"Month\": \"10\",\n",
            "            \"Day\": \"18\",\n",
            "            \"Hour\": \"6\",\n",
            "            \"Minute\": \"0\"\n",
            "         }\n",
            "      ],\n",
            "      \"PublicationStatus\": \"ppublish\",\n",
            "      \"ArticleIdList\": [\n",
            "         \"31622130\",\n",
            "         \"10.1200/JCO.19.00129\",\n",
            "         \"PMC7001784\"\n",
            "      ]\n",
            "   }\n",
            "}\n"
          ],
          "name": "stdout"
        }
      ]
    },
    {
      "cell_type": "code",
      "metadata": {
        "id": "Q5hQjLM4XhuV"
      },
      "source": [
        "cancer_lists = json_extract(cancer_papers, 'Cancer')"
      ],
      "execution_count": 6,
      "outputs": []
    },
    {
      "cell_type": "markdown",
      "metadata": {
        "id": "sAtrRaqkIJb7"
      },
      "source": [
        "Retriving Alzheimer's Disease related papers"
      ]
    },
    {
      "cell_type": "code",
      "metadata": {
        "id": "axUIUjJjH_PM"
      },
      "source": [
        "results = search('alzheimers', '100')\n",
        "id_list = results['IdList']\n",
        "AD_papers = fetch_details(id_list)\n",
        "AD_lists = json_extract(AD_papers, 'Alzheimers Disease')"
      ],
      "execution_count": 7,
      "outputs": []
    },
    {
      "cell_type": "markdown",
      "metadata": {
        "id": "dq0h4CTBMrt8"
      },
      "source": [
        "Retriving Diabetes related papers"
      ]
    },
    {
      "cell_type": "code",
      "metadata": {
        "id": "fvKM4gzRL2MN"
      },
      "source": [
        "results = search('diabetes', '150')\n",
        "id_list = results['IdList']\n",
        "diabetes_papers = fetch_details(id_list)\n",
        "diabetes_lists = json_extract(diabetes_papers, 'Diabetes')"
      ],
      "execution_count": 8,
      "outputs": []
    },
    {
      "cell_type": "markdown",
      "metadata": {
        "id": "E4yueNpvNBSV"
      },
      "source": [
        "Retriving Parkinson's Disease related papers"
      ]
    },
    {
      "cell_type": "code",
      "metadata": {
        "id": "togTrCQ_M9fh"
      },
      "source": [
        "results = search('parkinsons', '50')\n",
        "id_list = results['IdList']\n",
        "PD_papers = fetch_details(id_list)\n",
        "PD_lists = json_extract(PD_papers, 'Parkinsons Disease')"
      ],
      "execution_count": 9,
      "outputs": []
    },
    {
      "cell_type": "markdown",
      "metadata": {
        "id": "gm6XyScENZHC"
      },
      "source": [
        "Retriving Obesity related papers"
      ]
    },
    {
      "cell_type": "code",
      "metadata": {
        "id": "8mACt6MBNXvQ"
      },
      "source": [
        "results = search('Obesity', '120')\n",
        "id_list = results['IdList']\n",
        "obesity_papers = fetch_details(id_list)\n",
        "obesity_lists = json_extract(obesity_papers, 'Obesity')"
      ],
      "execution_count": 10,
      "outputs": []
    },
    {
      "cell_type": "markdown",
      "metadata": {
        "id": "XHFpWTC9NvtC"
      },
      "source": [
        "Retriving COVID related papers"
      ]
    },
    {
      "cell_type": "code",
      "metadata": {
        "id": "rndJjvyMNuzJ"
      },
      "source": [
        "results = search('Covid', '120')\n",
        "id_list = results['IdList']\n",
        "covid_papers = fetch_details(id_list)\n",
        "covid_lists = json_extract(covid_papers, 'COVID')"
      ],
      "execution_count": 11,
      "outputs": []
    },
    {
      "cell_type": "code",
      "metadata": {
        "id": "eReDpe7wAYXM"
      },
      "source": [
        "Abstract = []\n",
        "pmID = []  \n",
        "Keyword = []"
      ],
      "execution_count": 12,
      "outputs": []
    },
    {
      "cell_type": "code",
      "metadata": {
        "id": "KuoiXsAyBkKC"
      },
      "source": [
        "Abstract = cancer_lists[0] + AD_lists[0] + diabetes_lists[0] + PD_lists[0] + obesity_lists[0] + covid_lists[0]\n",
        "pmID = cancer_lists[1] + AD_lists[1] + diabetes_lists[1] + PD_lists[1] + obesity_lists[1] + covid_lists[1]\n",
        "Keyword = cancer_lists[2] + AD_lists[2] + diabetes_lists[2] + PD_lists[2] + obesity_lists[2] + covid_lists[2]"
      ],
      "execution_count": 13,
      "outputs": []
    },
    {
      "cell_type": "markdown",
      "metadata": {
        "id": "Hsne8k5JWUA5"
      },
      "source": [
        "# 3 DATAFRAME"
      ]
    },
    {
      "cell_type": "code",
      "metadata": {
        "colab": {
          "base_uri": "https://localhost:8080/",
          "height": 49
        },
        "id": "Y-3AnumARaxM",
        "outputId": "4b8bcecd-3627-4ebb-bb55-1de3640d6626"
      },
      "source": [
        "data_frame = pd.DataFrame(columns= ['PUBMED_ID','Abstract','Keyword'])\n",
        "data_frame.head() # Create a dataframe using pandas"
      ],
      "execution_count": 14,
      "outputs": [
        {
          "output_type": "execute_result",
          "data": {
            "text/html": [
              "<div>\n",
              "<style scoped>\n",
              "    .dataframe tbody tr th:only-of-type {\n",
              "        vertical-align: middle;\n",
              "    }\n",
              "\n",
              "    .dataframe tbody tr th {\n",
              "        vertical-align: top;\n",
              "    }\n",
              "\n",
              "    .dataframe thead th {\n",
              "        text-align: right;\n",
              "    }\n",
              "</style>\n",
              "<table border=\"1\" class=\"dataframe\">\n",
              "  <thead>\n",
              "    <tr style=\"text-align: right;\">\n",
              "      <th></th>\n",
              "      <th>PUBMED_ID</th>\n",
              "      <th>Abstract</th>\n",
              "      <th>Keyword</th>\n",
              "    </tr>\n",
              "  </thead>\n",
              "  <tbody>\n",
              "  </tbody>\n",
              "</table>\n",
              "</div>"
            ],
            "text/plain": [
              "Empty DataFrame\n",
              "Columns: [PUBMED_ID, Abstract, Keyword]\n",
              "Index: []"
            ]
          },
          "metadata": {
            "tags": []
          },
          "execution_count": 14
        }
      ]
    },
    {
      "cell_type": "code",
      "metadata": {
        "colab": {
          "base_uri": "https://localhost:8080/",
          "height": 206
        },
        "id": "r1Jare-FSrD_",
        "outputId": "08510f0a-4647-4cfc-a190-2704807451b3"
      },
      "source": [
        "data_frame.PUBMED_ID = pmID\n",
        "data_frame.Abstract = Abstract\n",
        "data_frame.Keyword = Keyword\n",
        "data_frame.head() "
      ],
      "execution_count": 15,
      "outputs": [
        {
          "output_type": "execute_result",
          "data": {
            "text/html": [
              "<div>\n",
              "<style scoped>\n",
              "    .dataframe tbody tr th:only-of-type {\n",
              "        vertical-align: middle;\n",
              "    }\n",
              "\n",
              "    .dataframe tbody tr th {\n",
              "        vertical-align: top;\n",
              "    }\n",
              "\n",
              "    .dataframe thead th {\n",
              "        text-align: right;\n",
              "    }\n",
              "</style>\n",
              "<table border=\"1\" class=\"dataframe\">\n",
              "  <thead>\n",
              "    <tr style=\"text-align: right;\">\n",
              "      <th></th>\n",
              "      <th>PUBMED_ID</th>\n",
              "      <th>Abstract</th>\n",
              "      <th>Keyword</th>\n",
              "    </tr>\n",
              "  </thead>\n",
              "  <tbody>\n",
              "    <tr>\n",
              "      <th>0</th>\n",
              "      <td>31622130</td>\n",
              "      <td>Therapeutic radiation in childhood cancer has ...</td>\n",
              "      <td>Cancer</td>\n",
              "    </tr>\n",
              "    <tr>\n",
              "      <th>1</th>\n",
              "      <td>32682319</td>\n",
              "      <td>The aim of the study was to characterize subse...</td>\n",
              "      <td>Cancer</td>\n",
              "    </tr>\n",
              "    <tr>\n",
              "      <th>2</th>\n",
              "      <td>32142393</td>\n",
              "      <td>To evaluate childhood cancer survivors' adhere...</td>\n",
              "      <td>Cancer</td>\n",
              "    </tr>\n",
              "    <tr>\n",
              "      <th>3</th>\n",
              "      <td>32469081</td>\n",
              "      <td>Birth defects are established risk factors for...</td>\n",
              "      <td>Cancer</td>\n",
              "    </tr>\n",
              "    <tr>\n",
              "      <th>4</th>\n",
              "      <td>31337641</td>\n",
              "      <td>Obesity is a known modifiable risk factor asso...</td>\n",
              "      <td>Cancer</td>\n",
              "    </tr>\n",
              "  </tbody>\n",
              "</table>\n",
              "</div>"
            ],
            "text/plain": [
              "  PUBMED_ID                                           Abstract Keyword\n",
              "0  31622130  Therapeutic radiation in childhood cancer has ...  Cancer\n",
              "1  32682319  The aim of the study was to characterize subse...  Cancer\n",
              "2  32142393  To evaluate childhood cancer survivors' adhere...  Cancer\n",
              "3  32469081  Birth defects are established risk factors for...  Cancer\n",
              "4  31337641  Obesity is a known modifiable risk factor asso...  Cancer"
            ]
          },
          "metadata": {
            "tags": []
          },
          "execution_count": 15
        }
      ]
    },
    {
      "cell_type": "code",
      "metadata": {
        "colab": {
          "base_uri": "https://localhost:8080/"
        },
        "id": "ISYX9VuYTMCA",
        "outputId": "42c80051-5ca9-4796-b345-d7344d2d0015"
      },
      "source": [
        "data_frame.Keyword.value_counts() # number of data collected in different topics"
      ],
      "execution_count": 16,
      "outputs": [
        {
          "output_type": "execute_result",
          "data": {
            "text/plain": [
              "Cancer                200\n",
              "Diabetes              150\n",
              "COVID                 120\n",
              "Obesity               120\n",
              "Alzheimers Disease    100\n",
              "Parkinsons Disease     50\n",
              "Name: Keyword, dtype: int64"
            ]
          },
          "metadata": {
            "tags": []
          },
          "execution_count": 16
        }
      ]
    },
    {
      "cell_type": "code",
      "metadata": {
        "id": "v6IoBQONo5eF"
      },
      "source": [
        "data_frame.to_csv('PubMed_data.csv', index=False)"
      ],
      "execution_count": 21,
      "outputs": []
    }
  ]
}